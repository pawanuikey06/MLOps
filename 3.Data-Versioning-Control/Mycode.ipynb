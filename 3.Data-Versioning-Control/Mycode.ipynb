{
 "cells": [
  {
   "cell_type": "code",
   "execution_count": 1,
   "metadata": {},
   "outputs": [
    {
     "name": "stdout",
     "output_type": "stream",
     "text": [
      "CSV file saved to data\\sample_data.csv\n"
     ]
    }
   ],
   "source": [
    "import pandas as pd\n",
    "import os\n",
    "\n",
    "# Create a sample DataFrame with column names\n",
    "data = {'Name': ['Alice', 'Bob', 'Charlie'],\n",
    "    'Age': [25, 30, 35],\n",
    "    'City': ['New York', 'Los Angeles', 'Chicago']\n",
    "    }\n",
    "\n",
    "df = pd.DataFrame(data)\n",
    "\n",
    "# # Adding new row to df for V2\n",
    "new_row_loc = {'Name': 'GF1', 'Age': 20, 'City': 'City1'}\n",
    "df.loc[len(df.index)] = new_row_loc\n",
    "\n",
    "# # Adding new row to df for V3\n",
    "new_row_loc2 = {'Name': 'GF2', 'Age': 30, 'City': 'City2'}\n",
    "df.loc[len(df.index)] = new_row_loc2\n",
    "\n",
    "# Ensure the \"data\" directory exists at the root level\n",
    "data_dir = 'data'\n",
    "os.makedirs(data_dir, exist_ok=True)\n",
    "\n",
    "# Define the file path\n",
    "file_path = os.path.join(data_dir, 'sample_data.csv')\n",
    "\n",
    "# Save the DataFrame to a CSV file, including column names\n",
    "df.to_csv(file_path, index=False)\n",
    "\n",
    "print(f\"CSV file saved to {file_path}\")"
   ]
  }
 ],
 "metadata": {
  "kernelspec": {
   "display_name": "base",
   "language": "python",
   "name": "python3"
  },
  "language_info": {
   "codemirror_mode": {
    "name": "ipython",
    "version": 3
   },
   "file_extension": ".py",
   "mimetype": "text/x-python",
   "name": "python",
   "nbconvert_exporter": "python",
   "pygments_lexer": "ipython3",
   "version": "3.11.3"
  }
 },
 "nbformat": 4,
 "nbformat_minor": 2
}
